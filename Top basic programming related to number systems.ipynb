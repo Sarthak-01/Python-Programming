{
 "cells": [
  {
   "cell_type": "markdown",
   "metadata": {},
   "source": [
    "# Author : Sarthak Kumar Rath"
   ]
  },
  {
   "cell_type": "code",
   "execution_count": 1,
   "metadata": {},
   "outputs": [
    {
     "name": "stdout",
     "output_type": "stream",
     "text": [
      "5\n",
      "15\n"
     ]
    }
   ],
   "source": [
    "#sum of n natural numbers using recursion\n",
    "def sum(n) :\n",
    "    if n== 0 :\n",
    "        return 0\n",
    "    else :\n",
    "        \n",
    "        return n+sum(n-1)\n",
    "\n",
    "n = int(input())\n",
    "print(sum(n))"
   ]
  },
  {
   "cell_type": "code",
   "execution_count": 2,
   "metadata": {},
   "outputs": [
    {
     "name": "stdout",
     "output_type": "stream",
     "text": [
      "5 10\n",
      "35\n"
     ]
    }
   ],
   "source": [
    "#sum of numbers with in a range\n",
    "a,b = list(map(int,input().split()))\n",
    "sum = 0\n",
    "for i in range(a,b) :\n",
    "    sum = sum + i\n",
    "print(sum)\n"
   ]
  },
  {
   "cell_type": "code",
   "execution_count": 3,
   "metadata": {},
   "outputs": [
    {
     "name": "stdout",
     "output_type": "stream",
     "text": [
      "3\n",
      "this is a prime number\n"
     ]
    }
   ],
   "source": [
    "#prime number or not\n",
    "num =int(input())\n",
    "count = 0\n",
    "for i in range(1,num+1) :\n",
    "    if num%i == 0 :\n",
    "        count = count +1\n",
    "if count == 2 :\n",
    "    print(\"this is a prime number\")\n",
    "else :\n",
    "    print(\"this is not a prime number\")"
   ]
  },
  {
   "cell_type": "code",
   "execution_count": 4,
   "metadata": {},
   "outputs": [
    {
     "name": "stdout",
     "output_type": "stream",
     "text": [
      "10 21\n",
      "11 13 17 19\n"
     ]
    }
   ],
   "source": [
    "#prime number in a given range\n",
    "\n",
    "a,b = list(map(int,input().split()))\n",
    "prime = []\n",
    "for i in range (a,b+1) :\n",
    "    for j in range(2,i//2) :\n",
    "        if i%j == 0 :\n",
    "            break\n",
    "    else :\n",
    "        prime.append(i)\n",
    "print(*(prime))\n",
    "\n"
   ]
  },
  {
   "cell_type": "code",
   "execution_count": 5,
   "metadata": {},
   "outputs": [
    {
     "name": "stdout",
     "output_type": "stream",
     "text": [
      "123\n",
      "6\n"
     ]
    }
   ],
   "source": [
    "#sum of digits of a number\n",
    "\n",
    "num = int(input())\n",
    "sum =0\n",
    "for i in str(num) :\n",
    "    sum = sum +int(i)\n",
    "print(sum)"
   ]
  },
  {
   "cell_type": "code",
   "execution_count": 6,
   "metadata": {},
   "outputs": [
    {
     "name": "stdout",
     "output_type": "stream",
     "text": [
      "123\n",
      "321\n"
     ]
    }
   ],
   "source": [
    "#reverse a number\n",
    "\n",
    "num =int(input())\n",
    "temp = num\n",
    "reverse = 0\n",
    "while num>0 :\n",
    "    remainder = num %10\n",
    "    reverse = reverse *10 + remainder\n",
    "    num = num//10\n",
    "print(reverse)"
   ]
  },
  {
   "cell_type": "code",
   "execution_count": 7,
   "metadata": {},
   "outputs": [
    {
     "name": "stdout",
     "output_type": "stream",
     "text": [
      "153\n",
      "this is not a palliondrome number\n"
     ]
    }
   ],
   "source": [
    "#palliondrome number\n",
    "num =int(input())\n",
    "temp =num\n",
    "reverse =0\n",
    "while num>0 :\n",
    "    remainder = num%10\n",
    "    reverse = reverse*10 + remainder\n",
    "    num = num // 10\n",
    "if temp == reverse :\n",
    "    print(\"this is a paliondrome number\")\n",
    "else :\n",
    "    print(\"this is not a palliondrome number\")"
   ]
  },
  {
   "cell_type": "code",
   "execution_count": 8,
   "metadata": {},
   "outputs": [
    {
     "name": "stdout",
     "output_type": "stream",
     "text": [
      "153\n",
      "this is an armstrong number\n"
     ]
    }
   ],
   "source": [
    "#Armstrong number\n",
    "\n",
    "num =int(input())\n",
    "sum = 0\n",
    "temp =num\n",
    "while num>0 :\n",
    "    digits = num%10\n",
    "    sum =sum  + digits**3\n",
    "    num = num//10\n",
    "if sum == temp :\n",
    "    print(\"this is an armstrong number\")\n",
    "else :\n",
    "    print(\"this is not an armstron number\")"
   ]
  },
  {
   "cell_type": "code",
   "execution_count": 9,
   "metadata": {},
   "outputs": [
    {
     "name": "stdout",
     "output_type": "stream",
     "text": [
      "5\n",
      "5\n"
     ]
    }
   ],
   "source": [
    "#nth fibbonacci term\n",
    "def fibbonacci(n) :\n",
    "    if n == 0 :\n",
    "        return 0\n",
    "    if n ==1 :\n",
    "        return 1\n",
    "    else :\n",
    "        return fibbonacci(n-1) + fibbonacci(n-2)\n",
    "n = int(input())\n",
    "print(fibbonacci(n))"
   ]
  },
  {
   "cell_type": "code",
   "execution_count": 10,
   "metadata": {},
   "outputs": [
    {
     "name": "stdout",
     "output_type": "stream",
     "text": [
      "5\n",
      "fibbonacci series 0 1 1 2 3 \n"
     ]
    }
   ],
   "source": [
    "#fibbonacci series upto nth term\n",
    "\n",
    "n = int(input())\n",
    "\n",
    "a,b = 0,1\n",
    "print(\"fibbonacci series\" , a,b,end = \" \")\n",
    "for i in range (2,n) :\n",
    "    c = a +b\n",
    "    a= b\n",
    "    b=c\n",
    "    print(c,end = \" \")\n",
    "print()"
   ]
  },
  {
   "cell_type": "code",
   "execution_count": 11,
   "metadata": {},
   "outputs": [
    {
     "name": "stdout",
     "output_type": "stream",
     "text": [
      "5\n",
      "factoral of number is  120\n"
     ]
    }
   ],
   "source": [
    "#factorail of a number\n",
    "\n",
    "def factorial(n) :\n",
    "    if n ==0 :\n",
    "        return 1\n",
    "    elif n ==1 :\n",
    "        return 1\n",
    "    else :\n",
    "        return n  * factorial(n-1)\n",
    "n = int(input())\n",
    "print(\"factoral of number is \",factorial(n))"
   ]
  },
  {
   "cell_type": "code",
   "execution_count": 12,
   "metadata": {},
   "outputs": [
    {
     "name": "stdout",
     "output_type": "stream",
     "text": [
      "2\n",
      "5\n",
      "5th exponent of 2 is 32\n"
     ]
    }
   ],
   "source": [
    "#power of a number\n",
    "\n",
    "n = int(input())\n",
    "k = int(input())\n",
    "\n",
    "print(f\"{k}th exponent of {n} is\" ,n**k)"
   ]
  },
  {
   "cell_type": "code",
   "execution_count": 13,
   "metadata": {},
   "outputs": [
    {
     "name": "stdout",
     "output_type": "stream",
     "text": [
      "60\n",
      "2\n",
      "2 is factor of 60\n"
     ]
    }
   ],
   "source": [
    "#factor of a number\n",
    "\n",
    "n = int(input())\n",
    "k = int(input())\n",
    "\n",
    "if n % k == 0 :\n",
    "    print(f\"{k} is factor of {n}\")\n",
    "else :\n",
    "    print(f\"{k} is not a factor of {n}\")"
   ]
  },
  {
   "cell_type": "code",
   "execution_count": 14,
   "metadata": {},
   "outputs": [
    {
     "name": "stdout",
     "output_type": "stream",
     "text": [
      "153\n",
      "this is not a strong number\n",
      "None\n"
     ]
    }
   ],
   "source": [
    "#strong number  : strong number is a number whose sum of all digits facorial is equal to the nummber n\n",
    "\n",
    "def factorial(n) :\n",
    "    if n ==0 :\n",
    "        return 1\n",
    "    elif n ==1 :\n",
    "        return 1\n",
    "    else :\n",
    "        return n  * factorial(n-1)\n",
    "def strong(A) :\n",
    "    sum = 0 \n",
    "    temp = A\n",
    "    while A>0 :\n",
    "        digit = A%10\n",
    "        sum = sum + factorial(digit)\n",
    "        A = A//10\n",
    "    if sum == temp :\n",
    "        print(\"this is a string number\")\n",
    "    else :\n",
    "        print(\"this is not a strong number\")\n",
    "A = int(input())\n",
    "\n",
    "print(strong(A))"
   ]
  },
  {
   "cell_type": "code",
   "execution_count": 15,
   "metadata": {},
   "outputs": [
    {
     "name": "stdout",
     "output_type": "stream",
     "text": [
      "enter a number \n",
      "56\n",
      "this is not a strong number\n"
     ]
    }
   ],
   "source": [
    "# or method\n",
    "\n",
    "print(\"enter a number \")\n",
    "n = int(input())\n",
    "temp = n\n",
    "sum =0 \n",
    "while temp :\n",
    "    r = temp %10\n",
    "    temp = temp//10\n",
    "    fac =1\n",
    "    for i in range(1,r+1) :\n",
    "        fac =fac*1\n",
    "    sum = sum + fac\n",
    "if (sum == n) :\n",
    "    print(\"this is a strong number\")\n",
    "else :\n",
    "    print(\"this is not a strong number\")"
   ]
  },
  {
   "cell_type": "code",
   "execution_count": null,
   "metadata": {},
   "outputs": [],
   "source": [
    "#Perfect number\n",
    "\n",
    "num = int(input())\n",
    "sum = 0\n",
    "temp = num\n",
    "for i in range (1,num+1) :\n",
    "    if num%i == 0 :\n",
    "        sum = sum+i\n",
    "if (sum == temp) :\n",
    "    print(\"the number is a string number\")\n",
    "else :\n",
    "    print(\"Not a perfect number\")"
   ]
  },
  {
   "cell_type": "code",
   "execution_count": null,
   "metadata": {},
   "outputs": [
    {
     "name": "stdout",
     "output_type": "stream",
     "text": [
      "6\n"
     ]
    }
   ],
   "source": [
    "num = int(input())\n",
    "sum =0\n",
    "i =1\n",
    "while i<=num :\n",
    "    if num%i == 0 :\n",
    "        sum =sum+i\n",
    "        i = i+1\n",
    "if sum == num :\n",
    "    print(\"this is a strong nummber\")"
   ]
  },
  {
   "cell_type": "code",
   "execution_count": 1,
   "metadata": {},
   "outputs": [
    {
     "name": "stdout",
     "output_type": "stream",
     "text": [
      "Enter  a number6\n",
      "6 is an automorphic number\n"
     ]
    }
   ],
   "source": [
    "#Automorphic number  : If the last digit of square of a number is equal to last digit of number ,then it is known as Automorphic number\n",
    "def Automorphic(num) :\n",
    "    square = int(num)**2\n",
    "\n",
    "    if (str(square)[-1]) == num[-1]:\n",
    "        print(f\"{num} is an automorphic number\")\n",
    "    else:\n",
    "        print(f\"No{num} not an automorphic number\")\n",
    "num = input(\"Enter  a number\")\n",
    "Automorphic(num)\n"
   ]
  },
  {
   "cell_type": "code",
   "execution_count": null,
   "metadata": {},
   "outputs": [],
   "source": [
    "#Harshad Number : A number which is divisible by the sum of its digits are known as harshad number.\n",
    "num = int(input())\n",
    "sum = 0\n",
    "for i in str(num) :\n",
    "    sum =sum + int(i)\n",
    "if num%sum == 0 :\n",
    "    print(f\"{num} is a harshad number\")\n",
    "else :\n",
    "    print(f\"{num} is not a harshad number\")"
   ]
  },
  {
   "cell_type": "code",
   "execution_count": null,
   "metadata": {},
   "outputs": [],
   "source": [
    "#Abundance Number : A number is said to be abundance number if the sum of its divisors is greater than the number\n",
    "\n",
    "num = input(\"Enter Your Number\")\n",
    "\n",
    "divisor = []\n",
    "for i in range (1,int(num)) :\n",
    "    if int(num)%i == 0 :\n",
    "        divisor.append(i)\n",
    "sum = 0\n",
    "for i in divisor :\n",
    "    sum = sum + int(i)\n",
    "\n",
    "if sum > int(num) :\n",
    "    print(f\"{num} is an abundance number\")\n",
    "else :\n",
    "    print(f\"{num} is not an abundance number\")\n"
   ]
  },
  {
   "cell_type": "code",
   "execution_count": null,
   "metadata": {},
   "outputs": [],
   "source": []
  }
 ],
 "metadata": {
  "kernelspec": {
   "display_name": "Python 3",
   "language": "python",
   "name": "python3"
  },
  "language_info": {
   "codemirror_mode": {
    "name": "ipython",
    "version": 3
   },
   "file_extension": ".py",
   "mimetype": "text/x-python",
   "name": "python",
   "nbconvert_exporter": "python",
   "pygments_lexer": "ipython3",
   "version": "3.8.5"
  }
 },
 "nbformat": 4,
 "nbformat_minor": 4
}
